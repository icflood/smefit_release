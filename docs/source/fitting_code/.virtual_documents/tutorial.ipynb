




















!pip install smefit








!pip install wget
!pip install ipywidgets
import sys
import os
import wget
import subprocess
import pathlib
import yaml
import matplotlib as mpl
from IPython.display import Image

mpl.rcParams.update(mpl.rcParamsDefault)


import smefit
import smefit.runner
from smefit.analyze.report import Report

smefit.log.setup_console(None)





def file_downloader(url, download_dir='./downloads'):

    if not os.path.exists(download_dir):
        os.mkdir(download_dir)

    file = wget.download(url, out=download_dir)
    return file

smefit_database = file_downloader('https://github.com/LHCfitNikhef/smefit_database/archive/refs/heads/main.zip')
runcards = file_downloader('https://github.com/LHCfitNikhef/smefit_release/raw/tutorial/tutorial/runcards.zip')

subprocess.run([f"unzip {smefit_database} -d ./downloads"], capture_output=False, shell=True, text=False)
subprocess.run([f"unzip {runcards} -d ./downloads"], capture_output=False, shell=True, text=False)


























runner_ttV = smefit.runner.Runner.from_file(pathlib.Path("./downloads/runcards/runcard_ttV.yaml"))
runner_ttV.global_analysis("A")





def make_report(runcard_report):

    mpl.rcParams.update(mpl.rcParamsDefault)

    with open(runcard_report, encoding="utf-8") as f:
        report_config = yaml.safe_load(f)
    
    report_name = report_config["name"]
    report_path = pathlib.Path(report_config["report_path"]).absolute()
    report_folder = report_path.joinpath(f"{report_name}")

    report_folder.mkdir(exist_ok=True, parents=True)

    report = Report(report_path, report_config["result_path"], report_config)
    
    report.coefficients(**report_config["coefficients_plots"])


make_report("./downloads/runcards/runcard_report_ttV.yaml")


# show the exclusion contour
Image(filename='./reports/report_ttV/contours_2d.png') 











runner_tt_mtt = smefit.runner.Runner.from_file(pathlib.Path("./downloads/runcards/runcard_tt_mtt.yaml"))
runner_tt_mtt.global_analysis("A")





make_report("./downloads/runcards/runcard_report_tt_mtt.yaml")


# show the exclusion contour
Image(filename='./reports/report_tt_mtt/contours_2d.png') 











# show the exclusion contour
Image(filename='./reports/report_combined/contours_2d.png') 











runner_tt_mtt_quad = smefit.runner.Runner.from_file(pathlib.Path("./downloads/runcards/runcard_tt_mtt_quad.yaml"))
runner_tt_mtt_quad.global_analysis("NS")
